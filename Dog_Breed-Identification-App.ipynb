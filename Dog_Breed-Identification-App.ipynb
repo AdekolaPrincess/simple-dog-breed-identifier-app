{
  "cells": [
    {
      "cell_type": "code",
      "source": [
        "pip install streamlit"
      ],
      "metadata": {
        "colab": {
          "base_uri": "https://localhost:8080/"
        },
        "id": "08X38X6pVLqZ",
        "outputId": "f78043a6-2645-4427-caa8-96571d11b077"
      },
      "execution_count": 1,
      "outputs": [
        {
          "output_type": "stream",
          "name": "stdout",
          "text": [
            "Requirement already satisfied: streamlit in /usr/local/lib/python3.11/dist-packages (1.45.1)\n",
            "Requirement already satisfied: altair<6,>=4.0 in /usr/local/lib/python3.11/dist-packages (from streamlit) (5.5.0)\n",
            "Requirement already satisfied: blinker<2,>=1.5.0 in /usr/local/lib/python3.11/dist-packages (from streamlit) (1.9.0)\n",
            "Requirement already satisfied: cachetools<6,>=4.0 in /usr/local/lib/python3.11/dist-packages (from streamlit) (5.5.2)\n",
            "Requirement already satisfied: click<9,>=7.0 in /usr/local/lib/python3.11/dist-packages (from streamlit) (8.2.1)\n",
            "Requirement already satisfied: numpy<3,>=1.23 in /usr/local/lib/python3.11/dist-packages (from streamlit) (2.0.2)\n",
            "Requirement already satisfied: packaging<25,>=20 in /usr/local/lib/python3.11/dist-packages (from streamlit) (24.2)\n",
            "Requirement already satisfied: pandas<3,>=1.4.0 in /usr/local/lib/python3.11/dist-packages (from streamlit) (2.2.2)\n",
            "Requirement already satisfied: pillow<12,>=7.1.0 in /usr/local/lib/python3.11/dist-packages (from streamlit) (11.2.1)\n",
            "Requirement already satisfied: protobuf<7,>=3.20 in /usr/local/lib/python3.11/dist-packages (from streamlit) (5.29.4)\n",
            "Requirement already satisfied: pyarrow>=7.0 in /usr/local/lib/python3.11/dist-packages (from streamlit) (18.1.0)\n",
            "Requirement already satisfied: requests<3,>=2.27 in /usr/local/lib/python3.11/dist-packages (from streamlit) (2.32.3)\n",
            "Requirement already satisfied: tenacity<10,>=8.1.0 in /usr/local/lib/python3.11/dist-packages (from streamlit) (9.1.2)\n",
            "Requirement already satisfied: toml<2,>=0.10.1 in /usr/local/lib/python3.11/dist-packages (from streamlit) (0.10.2)\n",
            "Requirement already satisfied: typing-extensions<5,>=4.4.0 in /usr/local/lib/python3.11/dist-packages (from streamlit) (4.13.2)\n",
            "Requirement already satisfied: watchdog<7,>=2.1.5 in /usr/local/lib/python3.11/dist-packages (from streamlit) (6.0.0)\n",
            "Requirement already satisfied: gitpython!=3.1.19,<4,>=3.0.7 in /usr/local/lib/python3.11/dist-packages (from streamlit) (3.1.44)\n",
            "Requirement already satisfied: pydeck<1,>=0.8.0b4 in /usr/local/lib/python3.11/dist-packages (from streamlit) (0.9.1)\n",
            "Requirement already satisfied: tornado<7,>=6.0.3 in /usr/local/lib/python3.11/dist-packages (from streamlit) (6.4.2)\n",
            "Requirement already satisfied: jinja2 in /usr/local/lib/python3.11/dist-packages (from altair<6,>=4.0->streamlit) (3.1.6)\n",
            "Requirement already satisfied: jsonschema>=3.0 in /usr/local/lib/python3.11/dist-packages (from altair<6,>=4.0->streamlit) (4.23.0)\n",
            "Requirement already satisfied: narwhals>=1.14.2 in /usr/local/lib/python3.11/dist-packages (from altair<6,>=4.0->streamlit) (1.40.0)\n",
            "Requirement already satisfied: gitdb<5,>=4.0.1 in /usr/local/lib/python3.11/dist-packages (from gitpython!=3.1.19,<4,>=3.0.7->streamlit) (4.0.12)\n",
            "Requirement already satisfied: python-dateutil>=2.8.2 in /usr/local/lib/python3.11/dist-packages (from pandas<3,>=1.4.0->streamlit) (2.9.0.post0)\n",
            "Requirement already satisfied: pytz>=2020.1 in /usr/local/lib/python3.11/dist-packages (from pandas<3,>=1.4.0->streamlit) (2025.2)\n",
            "Requirement already satisfied: tzdata>=2022.7 in /usr/local/lib/python3.11/dist-packages (from pandas<3,>=1.4.0->streamlit) (2025.2)\n",
            "Requirement already satisfied: charset-normalizer<4,>=2 in /usr/local/lib/python3.11/dist-packages (from requests<3,>=2.27->streamlit) (3.4.2)\n",
            "Requirement already satisfied: idna<4,>=2.5 in /usr/local/lib/python3.11/dist-packages (from requests<3,>=2.27->streamlit) (3.10)\n",
            "Requirement already satisfied: urllib3<3,>=1.21.1 in /usr/local/lib/python3.11/dist-packages (from requests<3,>=2.27->streamlit) (2.4.0)\n",
            "Requirement already satisfied: certifi>=2017.4.17 in /usr/local/lib/python3.11/dist-packages (from requests<3,>=2.27->streamlit) (2025.4.26)\n",
            "Requirement already satisfied: smmap<6,>=3.0.1 in /usr/local/lib/python3.11/dist-packages (from gitdb<5,>=4.0.1->gitpython!=3.1.19,<4,>=3.0.7->streamlit) (5.0.2)\n",
            "Requirement already satisfied: MarkupSafe>=2.0 in /usr/local/lib/python3.11/dist-packages (from jinja2->altair<6,>=4.0->streamlit) (3.0.2)\n",
            "Requirement already satisfied: attrs>=22.2.0 in /usr/local/lib/python3.11/dist-packages (from jsonschema>=3.0->altair<6,>=4.0->streamlit) (25.3.0)\n",
            "Requirement already satisfied: jsonschema-specifications>=2023.03.6 in /usr/local/lib/python3.11/dist-packages (from jsonschema>=3.0->altair<6,>=4.0->streamlit) (2025.4.1)\n",
            "Requirement already satisfied: referencing>=0.28.4 in /usr/local/lib/python3.11/dist-packages (from jsonschema>=3.0->altair<6,>=4.0->streamlit) (0.36.2)\n",
            "Requirement already satisfied: rpds-py>=0.7.1 in /usr/local/lib/python3.11/dist-packages (from jsonschema>=3.0->altair<6,>=4.0->streamlit) (0.25.1)\n",
            "Requirement already satisfied: six>=1.5 in /usr/local/lib/python3.11/dist-packages (from python-dateutil>=2.8.2->pandas<3,>=1.4.0->streamlit) (1.17.0)\n"
          ]
        }
      ]
    },
    {
      "cell_type": "code",
      "execution_count": 2,
      "metadata": {
        "id": "NqGv-tTlZDoD",
        "colab": {
          "base_uri": "https://localhost:8080/"
        },
        "outputId": "03fe837d-f60e-4925-f3a3-ede03a2ed01f"
      },
      "outputs": [
        {
          "output_type": "stream",
          "name": "stdout",
          "text": [
            "Overwriting app.py\n"
          ]
        }
      ],
      "source": [
        "%%writefile app.py\n",
        "\n",
        "# Import libraries\n",
        "import streamlit as st\n",
        "import numpy as np\n",
        "import tensorflow as tf\n",
        "import requests\n",
        "import os\n",
        "from PIL import Image, ImageDraw, ImageFont    # PIL -Python Imaging library\n",
        "from io import BytesIO\n",
        "\n",
        "\n",
        "# ===== Core Model Class =====\n",
        "class DogIdentification:\n",
        "    def __init__(self, model_path, dog_breeds):\n",
        "        self.model = tf.keras.models.load_model(model_path)\n",
        "        self.dog_breeds = dog_breeds\n",
        "        self.image_size = (224, 224)\n",
        "\n",
        "    def _load_image_from_url(self, url):\n",
        "        response = requests.get(url)\n",
        "        response.raise_for_status()\n",
        "        img = Image.open(BytesIO(response.content)).convert(\"RGB\")\n",
        "        return img\n",
        "\n",
        "    def _load_image_from_path(self, path):\n",
        "        if not os.path.isfile(path):\n",
        "            raise FileNotFoundError(f\"File not found: {path}\")\n",
        "        img = Image.open(path).convert(\"RGB\")\n",
        "        return img\n",
        "\n",
        "    def preprocess_image(self, image_input):\n",
        "        try:\n",
        "            if isinstance(image_input, str) and image_input.lower().startswith((\"http://\", \"https://\")):\n",
        "                img = self._load_image_from_url(image_input)\n",
        "            else:\n",
        "                img = self._load_image_from_path(image_input)\n",
        "\n",
        "            img = img.resize(self.image_size)\n",
        "            img_array = np.array(img)\n",
        "            if img_array.shape[-1] == 4:\n",
        "                img_array = img_array[..., :3]\n",
        "            img_array = np.expand_dims(img_array, axis=0)\n",
        "            return img_array, img\n",
        "        except Exception as e:\n",
        "            st.error(f\"Error loading image: {e}\")\n",
        "            return None, None\n",
        "\n",
        "    def predict_breed(self, image_input):\n",
        "        processed_image, original_image = self.preprocess_image(image_input)\n",
        "        if processed_image is None:\n",
        "            return \"Invalid image\", 0.0, None\n",
        "\n",
        "        predictions = self.model.predict(processed_image)\n",
        "        prediction_index = np.argmax(predictions)\n",
        "        dog_breed = self.dog_breeds[prediction_index]\n",
        "        confidence = predictions[0][prediction_index] * 100\n",
        "        return dog_breed, confidence, original_image\n",
        "\n",
        "# ===== Dog Breeds =====\n",
        "dog_breeds = ['affenpinscher', 'afghan_hound', 'african_hunting_dog', 'airedale',\n",
        "    'american_staffordshire_terrier', 'appenzeller', 'australian_terrier', 'basenji',\n",
        "    'basset', 'beagle', 'bedlington_terrier', 'bernese_mountain_dog', 'black-and-tan_coonhound',\n",
        "    'blenheim_spaniel', 'bloodhound', 'bluetick', 'border_collie', 'border_terrier', 'borzoi',\n",
        "    'boston_bull', 'bouvier_des_flandres', 'boxer', 'brabancon_griffon', 'briard',\n",
        "    'brittany_spaniel', 'bull_mastiff', 'cairn', 'cardigan', 'chesapeake_bay_retriever',\n",
        "    'chihuahua', 'chow', 'clumber', 'cocker_spaniel', 'collie', 'curly-coated_retriever',\n",
        "    'dandie_dinmont', 'dhole', 'dingo', 'doberman', 'english_foxhound', 'english_setter',\n",
        "    'english_springer', 'entlebucher', 'eskimo_dog', 'flat-coated_retriever', 'french_bulldog',\n",
        "    'german_shepherd', 'german_short-haired_pointer', 'giant_schnauzer', 'golden_retriever',\n",
        "    'gordon_setter', 'great_dane', 'great_pyrenees', 'greater_swiss_mountain_dog', 'groenendael',\n",
        "    'ibizan_hound', 'irish_setter', 'irish_terrier', 'irish_water_spaniel', 'irish_wolfhound',\n",
        "    'italian_greyhound', 'japanese_spaniel', 'keeshond', 'kelpie', 'kerry_blue_terrier',\n",
        "    'komondor', 'kuvasz', 'labrador_retriever', 'lakeland_terrier', 'leonberg', 'lhasa',\n",
        "    'malamute', 'malinois', 'maltese_dog', 'mexican_hairless', 'miniature_pinscher',\n",
        "    'miniature_poodle', 'miniature_schnauzer', 'newfoundland', 'norfolk_terrier',\n",
        "    'norwegian_elkhound', 'norwich_terrier', 'old_english_sheepdog', 'otterhound',\n",
        "    'papillon', 'pekinese', 'pembroke', 'pomeranian', 'pug', 'redbone', 'rhodesian_ridgeback',\n",
        "    'rottweiler', 'saint_bernard', 'saluki', 'samoyed', 'schipperke', 'scotch_terrier',\n",
        "    'scottish_deerhound', 'sealyham_terrier', 'shetland_sheepdog', 'shih-tzu',\n",
        "    'siberian_husky', 'silky_terrier', 'soft-coated_wheaten_terrier',\n",
        "    'staffordshire_bullterrier', 'standard_poodle', 'standard_schnauzer', 'sussex_spaniel',\n",
        "    'tibetan_mastiff', 'tibetan_terrier', 'toy_poodle', 'toy_terrier', 'vizsla', 'walker_hound',\n",
        "    'weimaraner', 'welsh_springer_spaniel', 'west_highland_white_terrier', 'whippet',\n",
        "    'wire-haired_fox_terrier', 'yorkshire_terrier']\n",
        "\n",
        "# ===== Model =====\n",
        "model_path = \"20250531-10451748688334_ResNet50.keras\"  # the dog-breed-identification model\n",
        "predictor = DogIdentification(model_path, dog_breeds)\n",
        "\n",
        "# ===== Streamlit App =====\n",
        "st.set_page_config(page_title=\"Dog Breed Identifier\", page_icon=\"🐾\")\n",
        "st.markdown(\n",
        "    \"\"\"\n",
        "    <style>\n",
        "        .main {\n",
        "            background-color: black;\n",
        "        }\n",
        "        .result {\n",
        "            font-size: 32px;\n",
        "            font-weight: bold;\n",
        "            color: #A52A2A;\n",
        "        }\n",
        "    </style>\n",
        "    \"\"\",\n",
        "    unsafe_allow_html=True\n",
        ")\n",
        "\n",
        "st.title(\"🐾 Dog Breed Identification\")\n",
        "\n",
        "option = st.radio(\"Select Image Input Method\", (\"Upload from Path\", \"Enter URL\"))\n",
        "image_input = None\n",
        "\n",
        "if option == \"Upload from Path\":\n",
        "    uploaded_file = st.file_uploader(\"Choose an image...\", type=[\"jpg\", \"jpeg\", \"pnga\"])\n",
        "    if uploaded_file:\n",
        "        image_input = uploaded_file\n",
        "else:\n",
        "    image_url = st.text_input(\"Enter Image URL\")\n",
        "    if image_url.strip():\n",
        "        image_input = image_url.strip()\n",
        "\n",
        "if st.button(\"Identify Breed\") and image_input:\n",
        "    with st.spinner(\"Identifying breed...\"):\n",
        "        # Save uploaded file temporarily if needed\n",
        "        if isinstance(image_input, BytesIO) or hasattr(image_input, 'read'):\n",
        "            temp_path = \"temp_image.jpg\"\n",
        "            image = Image.open(image_input).convert(\"RGB\")\n",
        "            image.save(temp_path)\n",
        "            image_input = temp_path\n",
        "\n",
        "        dog_breed, confidence, display_image = predictor.predict_breed(image_input)\n",
        "\n",
        "        if display_image:\n",
        "            st.image(display_image, caption=\"Uploaded Image\", width=300)\n",
        "            st.markdown(f\"<div class='result'>Breed: {dog_breed.replace('_', ' ').title()}</div>\", unsafe_allow_html=True)\n",
        "            st.success(f\"Confidence: {confidence:.2f}%\")\n",
        "            learn_more_url = f\"https://en.wikipedia.org/wiki/{dog_breed.replace('_', ' ')}\"\n",
        "            st.markdown(f\"[Learn more about this breed]({learn_more_url})\")\n",
        "\n",
        "            # Save result image with prediction text\n",
        "            draw = ImageDraw.Draw(display_image)\n",
        "            font = ImageFont.load_default()\n",
        "            draw.text((10, 10), f\"{dog_breed} ({confidence:.2f}%)\", fill=\"#FFFF00\", font=font)\n",
        "\n",
        "            buffer = BytesIO()\n",
        "            display_image.save(buffer, format=\"JPEG\")\n",
        "            st.download_button(\n",
        "                label=\"📥 Download Result with prediction\",\n",
        "                data=buffer.getvalue(),\n",
        "                file_name=f\"{dog_breed}.jpg\",\n",
        "                mime=\"image/jpeg\"\n",
        "            )\n",
        "\n",
        "else:\n",
        "    st.info(\"Please provide an image path or a valid URL before clicking 'Identify Breed'.\")\n"
      ]
    },
    {
      "cell_type": "code",
      "execution_count": 3,
      "metadata": {
        "colab": {
          "base_uri": "https://localhost:8080/"
        },
        "id": "TCaEGAU2aDIH",
        "outputId": "f9573fbb-9a49-4fb6-86d7-32d663ebf76c"
      },
      "outputs": [
        {
          "output_type": "stream",
          "name": "stdout",
          "text": [
            "35.186.165.75\n"
          ]
        }
      ],
      "source": [
        "!wget -q -O - ipv4.icanhazip.com      # generates password for your url"
      ]
    },
    {
      "cell_type": "code",
      "execution_count": null,
      "metadata": {
        "colab": {
          "base_uri": "https://localhost:8080/"
        },
        "id": "GAsK30wBZZQh",
        "outputId": "40ef720c-f433-4e36-a5f5-aa538e153c97"
      },
      "outputs": [
        {
          "output_type": "stream",
          "name": "stdout",
          "text": [
            "\u001b[1G\u001b[0K⠙\n",
            "Collecting usage statistics. To deactivate, set browser.gatherUsageStats to false.\n",
            "\u001b[0m\n",
            "\u001b[1G\u001b[0K⠹\u001b[1G\u001b[0K⠸\u001b[1G\u001b[0K⠼\u001b[1G\u001b[0K⠴\u001b[0m\n",
            "\u001b[34m\u001b[1m  You can now view your Streamlit app in your browser.\u001b[0m\n",
            "\u001b[0m\n",
            "\u001b[34m  Local URL: \u001b[0m\u001b[1mhttp://localhost:8501\u001b[0m\n",
            "\u001b[34m  Network URL: \u001b[0m\u001b[1mhttp://172.28.0.12:8501\u001b[0m\n",
            "\u001b[34m  External URL: \u001b[0m\u001b[1mhttp://35.186.165.75:8501\u001b[0m\n",
            "\u001b[0m\n",
            "\u001b[1G\u001b[0K⠦\u001b[1G\u001b[0Kyour url is: https://late-cats-rush.loca.lt\n"
          ]
        }
      ],
      "source": [
        "!streamlit run app.py & npx localtunnel --port 8501   # Use the url that says \"your url is: ...\"yy"
      ]
    }
  ],
  "metadata": {
    "colab": {
      "provenance": []
    },
    "kernelspec": {
      "display_name": "Python 3",
      "name": "python3"
    },
    "language_info": {
      "name": "python"
    }
  },
  "nbformat": 4,
  "nbformat_minor": 0
}